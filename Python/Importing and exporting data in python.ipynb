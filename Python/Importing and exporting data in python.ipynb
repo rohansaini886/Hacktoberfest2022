{
 "cells": [
  {
   "cell_type": "code",
   "execution_count": 12,
   "id": "e43ab6a0",
   "metadata": {},
   "outputs": [
    {
     "data": {
      "text/html": [
       "<div>\n",
       "<style scoped>\n",
       "    .dataframe tbody tr th:only-of-type {\n",
       "        vertical-align: middle;\n",
       "    }\n",
       "\n",
       "    .dataframe tbody tr th {\n",
       "        vertical-align: top;\n",
       "    }\n",
       "\n",
       "    .dataframe thead th {\n",
       "        text-align: right;\n",
       "    }\n",
       "</style>\n",
       "<table border=\"1\" class=\"dataframe\">\n",
       "  <thead>\n",
       "    <tr style=\"text-align: right;\">\n",
       "      <th></th>\n",
       "      <th>headline</th>\n",
       "      <th>label</th>\n",
       "    </tr>\n",
       "  </thead>\n",
       "  <tbody>\n",
       "    <tr>\n",
       "      <th>3641</th>\n",
       "      <td>Vivo V15 Pro બજારમાં ધૂમ મચાવવા તૈયાર, જાણો શુ...</td>\n",
       "      <td>tech</td>\n",
       "    </tr>\n",
       "    <tr>\n",
       "      <th>5212</th>\n",
       "      <td>હવે સ્ક્રિનને ટચ કર્યા વગર ફોનમાં કરી શકાશે તમ...</td>\n",
       "      <td>tech</td>\n",
       "    </tr>\n",
       "    <tr>\n",
       "      <th>3962</th>\n",
       "      <td>Messengerમાં આવી રીતે કરો સિક્રેટ ચેટ, કોઈ નહી...</td>\n",
       "      <td>tech</td>\n",
       "    </tr>\n",
       "    <tr>\n",
       "      <th>1630</th>\n",
       "      <td>10 હજારનો સ્ટોક થયો 1.5 લાખનો, આપની પાસે પણ છે...</td>\n",
       "      <td>business</td>\n",
       "    </tr>\n",
       "    <tr>\n",
       "      <th>310</th>\n",
       "      <td>'kasautii zindagii kay 2' માં કોમોલિકાએ રચ્યો ...</td>\n",
       "      <td>entertainment</td>\n",
       "    </tr>\n",
       "    <tr>\n",
       "      <th>1578</th>\n",
       "      <td>દુનિયાનું પ્રખ્યાત TIME મેગેઝિન 14 અરબ રૂપિયામ...</td>\n",
       "      <td>business</td>\n",
       "    </tr>\n",
       "  </tbody>\n",
       "</table>\n",
       "</div>"
      ],
      "text/plain": [
       "                                               headline          label\n",
       "3641  Vivo V15 Pro બજારમાં ધૂમ મચાવવા તૈયાર, જાણો શુ...           tech\n",
       "5212  હવે સ્ક્રિનને ટચ કર્યા વગર ફોનમાં કરી શકાશે તમ...           tech\n",
       "3962  Messengerમાં આવી રીતે કરો સિક્રેટ ચેટ, કોઈ નહી...           tech\n",
       "1630  10 હજારનો સ્ટોક થયો 1.5 લાખનો, આપની પાસે પણ છે...       business\n",
       "310   'kasautii zindagii kay 2' માં કોમોલિકાએ રચ્યો ...  entertainment\n",
       "1578  દુનિયાનું પ્રખ્યાત TIME મેગેઝિન 14 અરબ રૂપિયામ...       business"
      ]
     },
     "execution_count": 12,
     "metadata": {},
     "output_type": "execute_result"
    }
   ],
   "source": [
    "# Importing file using pandas library\n",
    "import pandas as pd\n",
    "\n",
    "df = pd.read_csv('train.csv')\n",
    "df.sample(6)"
   ]
  },
  {
   "cell_type": "code",
   "execution_count": 9,
   "id": "30091489",
   "metadata": {},
   "outputs": [
    {
     "data": {
      "text/html": [
       "<div>\n",
       "<style scoped>\n",
       "    .dataframe tbody tr th:only-of-type {\n",
       "        vertical-align: middle;\n",
       "    }\n",
       "\n",
       "    .dataframe tbody tr th {\n",
       "        vertical-align: top;\n",
       "    }\n",
       "\n",
       "    .dataframe thead th {\n",
       "        text-align: right;\n",
       "    }\n",
       "</style>\n",
       "<table border=\"1\" class=\"dataframe\">\n",
       "  <thead>\n",
       "    <tr style=\"text-align: right;\">\n",
       "      <th></th>\n",
       "      <th>headline</th>\n",
       "      <th>label</th>\n",
       "    </tr>\n",
       "  </thead>\n",
       "  <tbody>\n",
       "    <tr>\n",
       "      <th>count</th>\n",
       "      <td>5269</td>\n",
       "      <td>5269</td>\n",
       "    </tr>\n",
       "    <tr>\n",
       "      <th>unique</th>\n",
       "      <td>5264</td>\n",
       "      <td>3</td>\n",
       "    </tr>\n",
       "    <tr>\n",
       "      <th>top</th>\n",
       "      <td>બે અજાણ્યા વ્યક્તિ મળ્યા, બનાવી દીધી 35 લાખ કર...</td>\n",
       "      <td>entertainment</td>\n",
       "    </tr>\n",
       "    <tr>\n",
       "      <th>freq</th>\n",
       "      <td>2</td>\n",
       "      <td>2321</td>\n",
       "    </tr>\n",
       "  </tbody>\n",
       "</table>\n",
       "</div>"
      ],
      "text/plain": [
       "                                                 headline          label\n",
       "count                                                5269           5269\n",
       "unique                                               5264              3\n",
       "top     બે અજાણ્યા વ્યક્તિ મળ્યા, બનાવી દીધી 35 લાખ કર...  entertainment\n",
       "freq                                                    2           2321"
      ]
     },
     "execution_count": 9,
     "metadata": {},
     "output_type": "execute_result"
    }
   ],
   "source": [
    "df.describe()"
   ]
  },
  {
   "cell_type": "code",
   "execution_count": 10,
   "id": "72fcbc87",
   "metadata": {},
   "outputs": [
    {
     "data": {
      "text/plain": [
       "entertainment    2321\n",
       "business         1840\n",
       "tech             1108\n",
       "Name: label, dtype: int64"
      ]
     },
     "execution_count": 10,
     "metadata": {},
     "output_type": "execute_result"
    }
   ],
   "source": [
    "df['label'].value_counts()"
   ]
  },
  {
   "cell_type": "code",
   "execution_count": 4,
   "id": "7f65f2ff",
   "metadata": {},
   "outputs": [],
   "source": [
    "df_en = df[(df.label != 'tech') & (df.label != 'business')]\n",
    "df_bs = df[(df.label != 'tech') & (df.label != 'entertainment')]\n",
    "df_tc = df[(df.label != 'entertainment') & (df.label != 'business')]"
   ]
  },
  {
   "cell_type": "code",
   "execution_count": 5,
   "id": "671e80c2",
   "metadata": {},
   "outputs": [],
   "source": [
    "# exporting data category wise\n",
    "df_en.to_csv('entertainment.csv', encoding='utf-8-sig')"
   ]
  },
  {
   "cell_type": "code",
   "execution_count": 6,
   "id": "3c9a5f6f",
   "metadata": {},
   "outputs": [],
   "source": [
    "df_bs.to_csv('business.csv', encoding='utf-8-sig')"
   ]
  },
  {
   "cell_type": "code",
   "execution_count": 7,
   "id": "8646147d",
   "metadata": {},
   "outputs": [],
   "source": [
    "df_tc.to_csv('tech.csv', encoding='utf-8-sig')"
   ]
  },
  {
   "cell_type": "code",
   "execution_count": 13,
   "id": "5cb6bd10",
   "metadata": {},
   "outputs": [],
   "source": [
    "df.to_csv('data.csv', encoding='utf-8-sig')"
   ]
  },
  {
   "cell_type": "code",
   "execution_count": null,
   "id": "8117ccde",
   "metadata": {},
   "outputs": [],
   "source": []
  }
 ],
 "metadata": {
  "kernelspec": {
   "display_name": "Python 3 (ipykernel)",
   "language": "python",
   "name": "python3"
  },
  "language_info": {
   "codemirror_mode": {
    "name": "ipython",
    "version": 3
   },
   "file_extension": ".py",
   "mimetype": "text/x-python",
   "name": "python",
   "nbconvert_exporter": "python",
   "pygments_lexer": "ipython3",
   "version": "3.9.7"
  }
 },
 "nbformat": 4,
 "nbformat_minor": 5
}
