{
 "cells": [
  {
   "cell_type": "markdown",
   "id": "58592b63-07bc-4ccf-9454-2fbf58aa3fd7",
   "metadata": {},
   "source": [
    "<u><h2> PYTHON OBJECT-ORINENTED-PROGRAMMING (OOP)</h2></u>"
   ]
  },
  {
   "cell_type": "markdown",
   "id": "5cbfbab4-0924-4cbd-a177-2e209767afd5",
   "metadata": {},
   "source": [
    "<h4><div style=\"text-align: justify\">Object Oriented programming (OOP) is a programming paradigm that relies on the concept of classes and objects. It is used to structure a software program into simple, reusable pieces of code blueprints (usually called classes), which are used to create individual instances of objects. There are many object-oriented programming languages including JavaScript, C++, Java, and Python.</div></h4>"
   ]
  },
  {
   "cell_type": "markdown",
   "id": "10fb7efe-361e-4051-890f-23f3efbb28a4",
   "metadata": {},
   "source": [
    "<u><h2>INHERITANCE IN PYHTON</h2></u>"
   ]
  },
  {
   "cell_type": "markdown",
   "id": "32a3d6c4-15ab-4441-8a27-b34c821daccb",
   "metadata": {},
   "source": [
    "<h4><div style=\"text-align: justify\">Inheritance is the capability of one class to derive or inherit the properties from another class. The benefits of inheritance are:</h4>\n",
    "</div>\n",
    "<h4>\n",
    "\n",
    "    1. It represents real-world relationships well.\n",
    "    2. It provides reusability of a code. We don’t have to write the same code again and    again. Also, it allows us to add more features to a class without modifying it.\n",
    "    3. It is transitive in nature, which means that if class B inherits from another class A, then all the subclasses of B would automatically inherit from class A.\n",
    "</h4>"
   ]
  },
  {
   "cell_type": "markdown",
   "id": "aa1a5b37-02f4-40e8-8fa4-dd637e2504cd",
   "metadata": {},
   "source": [
    "<h3> EXAMPLE </h3>"
   ]
  },
  {
   "cell_type": "code",
   "execution_count": 8,
   "id": "18b75c7b-2bea-48dd-8ab5-6716f46478fd",
   "metadata": {},
   "outputs": [
    {
     "name": "stdout",
     "output_type": "stream",
     "text": [
      "Rohan Saini False\n",
      "Rajat Bansal True\n"
     ]
    }
   ],
   "source": [
    "class Person(object):\n",
    "       \n",
    "    # Constructor\n",
    "    def __init__(self, name):\n",
    "        self.name = name\n",
    "   \n",
    "    # To get name\n",
    "    def getName(self):\n",
    "        return self.name\n",
    "   \n",
    "    # To check if this person is a Owner of Repo. or not\n",
    "    def isOwner(self):\n",
    "        return False\n",
    "   \n",
    "   \n",
    "# Inherited or Subclass (Note Person in bracket)\n",
    "class Owner(Person):\n",
    "   \n",
    "    # Here we return true\n",
    "    def isOwner(self):\n",
    "        return True\n",
    "   \n",
    "# Driver code\n",
    "ob = Person(\"Rohan Saini\")  # An Object of Person\n",
    "print(ob.getName(), ob.isOwner())\n",
    "   \n",
    "ob = Owner(\"Rajat Bansal\") # An Object of Owner\n",
    "print(ob.getName(), ob.isOwner())"
   ]
  },
  {
   "cell_type": "markdown",
   "id": "8bff1fb5-b455-4572-9236-925364b0757d",
   "metadata": {},
   "source": [
    "<h3>SUBCLASSES</h3>\n",
    "<h4>A child class needs to identify which class is its parent class. This can be done by mentioning the parent class name in the definition of the child class. </h4>"
   ]
  },
  {
   "cell_type": "markdown",
   "id": "1cc416b3-cc51-4b7f-9731-59815beaa8d3",
   "metadata": {},
   "source": [
    "<h4>Like :- class subclass_name (superclass_name): \n",
    "</h4>"
   ]
  },
  {
   "cell_type": "markdown",
   "id": "1c5fb78b-5fdb-4bc8-ac9d-cdd467a152ee",
   "metadata": {},
   "source": [
    "<u><h1> DIFFERENT FORMS OF INHERITENCE</h1></u>"
   ]
  },
  {
   "cell_type": "markdown",
   "id": "c2adb4b9-6c87-45da-9e8b-28bb7f8d1d7b",
   "metadata": {},
   "source": [
    "<h3><u>1. Single inheritance:</u> When a child class inherits from only one parent class, it is called single inheritance. We saw an example.</h3>"
   ]
  },
  {
   "cell_type": "code",
   "execution_count": 1,
   "id": "d42539dc-105e-42f4-acf9-549dd31248b6",
   "metadata": {},
   "outputs": [
    {
     "name": "stdout",
     "output_type": "stream",
     "text": [
      "Rahul\n",
      "886012\n"
     ]
    }
   ],
   "source": [
    "# Python code to demonstrate how parent constructors\n",
    "# are called.\n",
    "  \n",
    "# parent class\n",
    "class Person( object ):    \n",
    "  \n",
    "        # __init__ is known as the constructor         \n",
    "        def __init__(self, name, idnumber):   \n",
    "                self.name = name\n",
    "                self.idnumber = idnumber\n",
    "        def display(self):\n",
    "                print(self.name)\n",
    "                print(self.idnumber)\n",
    "  \n",
    "# child class\n",
    "class Employee( Person ):           \n",
    "        def __init__(self, name, idnumber, salary, post):\n",
    "                self.salary = salary\n",
    "                self.post = post\n",
    "  \n",
    "                # invoking the __init__ of the parent class \n",
    "                Person.__init__(self, name, idnumber) \n",
    "  \n",
    "                  \n",
    "# creation of an object variable or an instance\n",
    "a = Employee('Rahul', 886012, 200000, \"Intern\")    \n",
    "  \n",
    "# calling a function of the class Person using its instance\n",
    "a.display() "
   ]
  },
  {
   "cell_type": "markdown",
   "id": "656fbd20-834a-45bd-8ad9-ae5c3fd9e991",
   "metadata": {},
   "source": [
    "<h3> In the above code we used the single inheritance here person class is the <b> PARENT CLASS</b> and the employee class is the <b> CHILD CLASS </b>. As the Employee class using Employee class so it is the CHILD of the person class."
   ]
  },
  {
   "cell_type": "markdown",
   "id": "4534a8dd-e206-43bc-ac5a-ea3888fb1178",
   "metadata": {},
   "source": [
    "<h3><u>2. Multiple inheritance:</u> When a child class inherits from multiple parent classes, it is called multiple inheritance. "
   ]
  },
  {
   "cell_type": "code",
   "execution_count": 5,
   "id": "e2f134bd-7e42-4773-83ca-a1cdec8bf03f",
   "metadata": {},
   "outputs": [
    {
     "name": "stdout",
     "output_type": "stream",
     "text": [
      "Contributor\n",
      "Owner\n",
      "Forked\n",
      "Rohan Saini, Rajat Bansal\n"
     ]
    }
   ],
   "source": [
    "# Python example to show the working of multiple \n",
    "# inheritance\n",
    "class Base1(object):\n",
    "    def __init__(self):\n",
    "        self.str1 = \"Rohan Saini\"\n",
    "        print(\"Contributor\")\n",
    "  \n",
    "class Base2(object):\n",
    "    def __init__(self):\n",
    "        self.str2 = \"Rajat Bansal\"        \n",
    "        print(\"Owner\")\n",
    "  \n",
    "class Derived(Base1, Base2):\n",
    "    def __init__(self):\n",
    "          \n",
    "        # Calling constructors of Base1\n",
    "        # and Base2 classes\n",
    "        Base1.__init__(self)\n",
    "        Base2.__init__(self)\n",
    "        print(\"Forked\")\n",
    "          \n",
    "    def printStrs(self):\n",
    "        print(self.str1 + \", \" + self.str2)\n",
    "         \n",
    "  \n",
    "ob = Derived()\n",
    "ob.printStrs()"
   ]
  },
  {
   "cell_type": "markdown",
   "id": "acec4ac7-96d6-48c2-996e-43fc17951fb8",
   "metadata": {},
   "source": [
    "<h3><div style=\"text-align: justify\"> In the above example we used the two parent class \"Base1\" and \"Base2\" which is used in the child class \"Derived\". In derived class we used the Base1, Base2 as the object of the class. Hence the above example shows the mupltiple inheritance.</div></h3>"
   ]
  },
  {
   "cell_type": "markdown",
   "id": "e8478b8e-d308-495c-85f2-f66f964cc5f5",
   "metadata": {},
   "source": [
    "<h3><u>3. Multilevel inheritance:</u> When we have a child and grandchild relationship.</h3>"
   ]
  },
  {
   "cell_type": "code",
   "execution_count": 7,
   "id": "e0f04410-bf9e-4b0a-8173-95b789f9eae0",
   "metadata": {},
   "outputs": [
    {
     "name": "stdout",
     "output_type": "stream",
     "text": [
      "Rohan Saini 18 Jagadhri\n"
     ]
    }
   ],
   "source": [
    "# A Python program to demonstrate inheritance \n",
    "  \n",
    "# Base or Super class. Note object in bracket.\n",
    "# (Generally, object is made ancestor of all classes)\n",
    "# In Python 3.x \"class Person\" is \n",
    "# equivalent to \"class Person(object)\"\n",
    "class Base(object):\n",
    "      \n",
    "    # Constructor\n",
    "    def __init__(self, name):\n",
    "        self.name = name\n",
    "  \n",
    "    # To get name\n",
    "    def getName(self):\n",
    "        return self.name\n",
    "  \n",
    "  \n",
    "# Inherited or Sub class (Note Person in bracket)\n",
    "class Child(Base):\n",
    "      \n",
    "    # Constructor\n",
    "    def __init__(self, name, age):\n",
    "        Base.__init__(self, name)\n",
    "        self.age = age\n",
    "  \n",
    "    # To get name\n",
    "    def getAge(self):\n",
    "        return self.age\n",
    "  \n",
    "# Inherited or Sub class (Note Person in bracket)\n",
    "class GrandChild(Child):\n",
    "      \n",
    "    # Constructor\n",
    "    def __init__(self, name, age, address):\n",
    "        Child.__init__(self, name, age)\n",
    "        self.address = address\n",
    "  \n",
    "    # To get address\n",
    "    def getAddress(self):\n",
    "        return self.address        \n",
    "  \n",
    "# Driver code\n",
    "g = GrandChild(\"Rohan Saini\", 18, \"Jagadhri\")  \n",
    "print(g.getName(), g.getAge(), g.getAddress())"
   ]
  },
  {
   "cell_type": "markdown",
   "id": "09444b4e-6ded-4375-a1b7-fdf5d540677b",
   "metadata": {},
   "source": [
    "<h3> In the above code one parent class arise the one child class and the another child class used as the parent of another child class. Like  Father--> Son --> GrandChild."
   ]
  },
  {
   "cell_type": "markdown",
   "id": "159c23cb-0989-4e57-b56b-26ebec603842",
   "metadata": {},
   "source": [
    "<h3><u>4. Hierarchical inheritance:</u> More than one derived classes are created from a single base.</h3>\n"
   ]
  },
  {
   "cell_type": "code",
   "execution_count": 11,
   "id": "b3316285-8991-485e-b7d2-bd3b72a38f3f",
   "metadata": {},
   "outputs": [
    {
     "name": "stdout",
     "output_type": "stream",
     "text": [
      "Parent\n",
      "Child 1\n",
      "Child 2\n"
     ]
    }
   ],
   "source": [
    "class Parent:\n",
    "      def func1(self):\n",
    "          print(\"Parent\")\n",
    "class Child(Parent):\n",
    "      def func2(self):\n",
    "          print(\"Child 1\")\n",
    "class Child2(Parent):\n",
    "      def func3(self):\n",
    "          print(\"Child 2\")\n",
    " \n",
    "ob = Child()\n",
    "ob1 = Child2()\n",
    "ob.func1()\n",
    "ob.func2()\n",
    "ob1.func3()"
   ]
  },
  {
   "cell_type": "markdown",
   "id": "bd187ff6-b342-4794-b335-428b9701855d",
   "metadata": {},
   "source": [
    "<h3>In the Above code on parent is used in the two child classes. It means both child classes are in hierarchy</h3> "
   ]
  },
  {
   "cell_type": "markdown",
   "id": "f9a877d6-fea9-4c88-9e21-06278560458b",
   "metadata": {},
   "source": [
    "<h3><u>5. Hybrid inheritance:</u> This form combines more than one form of inheritance. Basically, it is a blend of more than one type of inheritance."
   ]
  },
  {
   "cell_type": "code",
   "execution_count": 14,
   "id": "5d1b3684-cbcc-45a0-a1f7-7d07194c8aaa",
   "metadata": {},
   "outputs": [
    {
     "name": "stdout",
     "output_type": "stream",
     "text": [
      "Constructor of Child class of Course and Branch is called\n",
      "Constructor of the Child Class 2 of Class University\n",
      "Constructor of the Child Class 1 of Class University\n",
      "Contructor of the Base class\n",
      "\n",
      "The Name of the student is: Tonny\n",
      "The Branch name is: Data Science\n",
      "The Course name is: CSE\n",
      "The University name is: MIT\n"
     ]
    }
   ],
   "source": [
    "# Creating a Base class named University:\n",
    "class University:\n",
    "  def __init__(self):\n",
    "    print(\"Contructor of the Base class\")\n",
    "    # Initializing a class variable named univ to store university name:\n",
    "    self.univ = \"MIT\"\n",
    "  def display(self):  # Method to print the University Name:\n",
    "    print(f\"The University name is: {self.univ}\")\n",
    "\n",
    "# 1st Derived or Child Class of University Class:\n",
    "class Course(University):\n",
    "  def __init__(self):\n",
    "    # using \"super\" keyword to access members of the parent class having same name:\n",
    "    print(\"Constructor of the Child Class 1 of Class University\")\n",
    "    University.__init__(self)\n",
    "    self.course = \"CSE\"\n",
    "  def display(self):  # Method to print the Course Name:\n",
    "    # using \"super\" keyword to access display method defined in the parent class:\n",
    "    print(f\"The Course name is: {self.course}\")\n",
    "    University.display(self)\n",
    "\n",
    "# 2nd Derived or Child Class of University Class:\n",
    "class Branch(University):\n",
    "  def __init__(self):\n",
    "    print(\"Constructor of the Child Class 2 of Class University\")\n",
    "    self.branch = \"Data Science\"\n",
    "  def display(self):  # Method to print the Branch Name:\n",
    "    print(f\"The Branch name is: {self.branch}\")\n",
    "\n",
    "# Derived or Child Class of Class Course and Branch:\n",
    "class Student(Course, Branch):\n",
    "  def __init__(self):\n",
    "    print(\"Constructor of Child class of Course and Branch is called\")\n",
    "    self.name = \"Tonny\"\n",
    "    Branch.__init__(self)\n",
    "    Course.__init__(self)\n",
    "  def display(self):\n",
    "    print(f\"The Name of the student is: {self.name}\")\n",
    "    Branch.display(self)\n",
    "    Course.display(self)\n",
    "\n",
    "# Object Instantiation:\n",
    "ob = Student()  # Object named ob of the class Student.\n",
    "print()\n",
    "ob.display()    # Calling the display method of Student class."
   ]
  },
  {
   "cell_type": "markdown",
   "id": "d7b3e6e1-2c23-4cba-9a2b-0da34aab91fd",
   "metadata": {},
   "source": [
    "<h3> As the name describes hybrid which means \"Combination of Two or More\" so in the above code two or more type of Inheritance is used.</h3>"
   ]
  },
  {
   "cell_type": "markdown",
   "id": "97dc4ff1-ce10-42c6-b3a2-77625026275d",
   "metadata": {},
   "source": [
    "<h4>____Sources___</h4>\n",
    "<h4>REFRENCE :- @GeeksForGeeks.org and @Educative</h4>"
   ]
  },
  {
   "cell_type": "code",
   "execution_count": null,
   "id": "64932dbf-b48a-40c9-b0ab-0bd4cabcb00b",
   "metadata": {},
   "outputs": [],
   "source": []
  }
 ],
 "metadata": {
  "kernelspec": {
   "display_name": "Python 3 (ipykernel)",
   "language": "python",
   "name": "python3"
  },
  "language_info": {
   "codemirror_mode": {
    "name": "ipython",
    "version": 3
   },
   "file_extension": ".py",
   "mimetype": "text/x-python",
   "name": "python",
   "nbconvert_exporter": "python",
   "pygments_lexer": "ipython3",
   "version": "3.9.4"
  }
 },
 "nbformat": 4,
 "nbformat_minor": 5
}
